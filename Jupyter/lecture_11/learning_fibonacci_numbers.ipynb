{
 "cells": [
  {
   "cell_type": "markdown",
   "id": "b0982726-1559-4bd7-805f-26827086f499",
   "metadata": {},
   "source": [
    "#### Learning the Fibonacci numbers"
   ]
  },
  {
   "cell_type": "code",
   "execution_count": 1,
   "id": "bb1c0565-411c-4c41-9c62-4c5731e3b3b6",
   "metadata": {
    "ExecuteTime": {
     "end_time": "2025-01-11T21:58:04.471431200Z",
     "start_time": "2025-01-11T21:57:55.469664200Z"
    }
   },
   "outputs": [],
   "source": [
    "import torch\n",
    "import torch.nn as nn\n",
    "import torch.optim as optim\n",
    "from tqdm.notebook import tqdm"
   ]
  },
  {
   "cell_type": "code",
   "execution_count": 2,
   "id": "fe8b8e05-aea0-448c-b65a-17243624ce60",
   "metadata": {},
   "outputs": [],
   "source": [
    "def fib(n):\n",
    "    \n",
    "    assert n > 0, 'n must be > 0'\n",
    "    if n <= 2:\n",
    "        return 1\n",
    "    else:\n",
    "        return fib(n - 1) + fib(n - 2)\n",
    "    \n",
    "# Generate fibonacci sequence\n",
    "data = [fib(n) for n in range(1, 10)]"
   ]
  },
  {
   "cell_type": "markdown",
   "id": "fa54460c-8019-46ce-93d5-80c51490dde6",
   "metadata": {},
   "source": [
    "Define the RNN model"
   ]
  },
  {
   "cell_type": "code",
   "execution_count": 3,
   "id": "f29ceff3-5fdb-4901-a4ee-6cc471efc491",
   "metadata": {},
   "outputs": [],
   "source": [
    "class SimpleRNN(nn.Module):\n",
    "    def __init__(self, input_size, hidden_size, output_size):\n",
    "        super(SimpleRNN, self).__init__()\n",
    "        self.rnn = nn.RNN(input_size, hidden_size, batch_first=True)\n",
    "        self.fc = nn.Linear(hidden_size, output_size)\n",
    "    \n",
    "    def forward(self, x, h=None):\n",
    "        out, h = self.rnn(x, h)\n",
    "        out = self.fc(out)\n",
    "        \n",
    "        return out, h"
   ]
  },
  {
   "cell_type": "markdown",
   "id": "1d62a2f1-129c-47fb-9219-795b2b19e49d",
   "metadata": {},
   "source": [
    "Design the input and target sequences"
   ]
  },
  {
   "cell_type": "code",
   "execution_count": 2,
   "id": "915b924f-2118-429b-a3a9-0cf799b9c4d5",
   "metadata": {
    "ExecuteTime": {
     "end_time": "2025-01-11T21:58:17.050967900Z",
     "start_time": "2025-01-11T21:58:16.808306100Z"
    }
   },
   "outputs": [
    {
     "ename": "NameError",
     "evalue": "name 'data' is not defined",
     "output_type": "error",
     "traceback": [
      "\u001B[1;31m---------------------------------------------------------------------------\u001B[0m",
      "\u001B[1;31mNameError\u001B[0m                                 Traceback (most recent call last)",
      "Cell \u001B[1;32mIn[2], line 1\u001B[0m\n\u001B[1;32m----> 1\u001B[0m input_seq \u001B[38;5;241m=\u001B[39m torch\u001B[38;5;241m.\u001B[39mas_tensor(\u001B[43mdata\u001B[49m[:\u001B[38;5;241m-\u001B[39m\u001B[38;5;241m1\u001B[39m], dtype\u001B[38;5;241m=\u001B[39mtorch\u001B[38;5;241m.\u001B[39mfloat)\u001B[38;5;241m.\u001B[39mview(\u001B[38;5;241m-\u001B[39m\u001B[38;5;241m1\u001B[39m, \u001B[38;5;241m1\u001B[39m, \u001B[38;5;241m1\u001B[39m)\n\u001B[0;32m      2\u001B[0m target_seq \u001B[38;5;241m=\u001B[39m torch\u001B[38;5;241m.\u001B[39mas_tensor(data[\u001B[38;5;241m1\u001B[39m:], dtype\u001B[38;5;241m=\u001B[39mtorch\u001B[38;5;241m.\u001B[39mfloat)\u001B[38;5;241m.\u001B[39mview(\u001B[38;5;241m-\u001B[39m\u001B[38;5;241m1\u001B[39m, \u001B[38;5;241m1\u001B[39m, \u001B[38;5;241m1\u001B[39m)\n",
      "\u001B[1;31mNameError\u001B[0m: name 'data' is not defined"
     ]
    }
   ],
   "source": [
    "input_seq = torch.as_tensor(data[:-1], dtype=torch.float).view(-1, 1, 1)\n",
    "target_seq = torch.as_tensor(data[1:], dtype=torch.float).view(-1, 1, 1)"
   ]
  },
  {
   "cell_type": "markdown",
   "id": "feb71e38-9d08-4f7b-8ed4-a74e44596a80",
   "metadata": {},
   "source": [
    "Define the parameters"
   ]
  },
  {
   "cell_type": "code",
   "execution_count": 5,
   "id": "7b990137-aa0f-4344-8e25-ba0e50744b67",
   "metadata": {},
   "outputs": [
    {
     "data": {
      "application/vnd.jupyter.widget-view+json": {
       "model_id": "61f4275bfd5c40caa3ea0b9d7776d8a0",
       "version_major": 2,
       "version_minor": 0
      },
      "text/plain": [
       "  0%|          | 0/250 [00:00<?, ?it/s]"
      ]
     },
     "metadata": {},
     "output_type": "display_data"
    },
    {
     "name": "stdout",
     "output_type": "stream",
     "text": [
      "Epoch [50/250], Loss: 5.6069\n",
      "Epoch [100/250], Loss: 0.1186\n",
      "Epoch [150/250], Loss: 0.1228\n",
      "Epoch [200/250], Loss: 0.0918\n",
      "Epoch [250/250], Loss: 0.1040\n"
     ]
    }
   ],
   "source": [
    "# Hyperparameters\n",
    "input_size = 1\n",
    "hidden_size = 8\n",
    "output_size = 1\n",
    "num_epochs = 250\n",
    "learning_rate = 0.1\n",
    "\n",
    "# Model, Loss, and Optimizer\n",
    "model = SimpleRNN(input_size, hidden_size, output_size)\n",
    "loss_func = nn.MSELoss()\n",
    "optimizer = optim.Adam(model.parameters(), lr=learning_rate)\n",
    "\n",
    "# Training loop\n",
    "for epoch in tqdm(range(num_epochs)):\n",
    "    optimizer.zero_grad()\n",
    "    output, _ = model(input_seq)\n",
    "    loss = loss_func(output, target_seq)\n",
    "    loss.backward()\n",
    "    optimizer.step()\n",
    "\n",
    "    if (epoch + 1) % 50 == 0:\n",
    "        print(f\"Epoch [{epoch+1}/{num_epochs}], Loss: {loss.item():.4f}\")"
   ]
  },
  {
   "cell_type": "markdown",
   "id": "10c5ebe1-ee54-479c-a4bf-c3d4f93f52c2",
   "metadata": {},
   "source": [
    "Check out the predictions"
   ]
  },
  {
   "cell_type": "code",
   "execution_count": 6,
   "id": "6ea598f9-338f-48ca-a16f-ccda1115adce",
   "metadata": {},
   "outputs": [
    {
     "name": "stdout",
     "output_type": "stream",
     "text": [
      "Current: 1.00, Next: 1.00, Predicted: 1.47\n",
      "Current: 1.00, Next: 2.00, Predicted: 1.47\n",
      "Current: 2.00, Next: 3.00, Predicted: 3.33\n",
      "Current: 3.00, Next: 5.00, Predicted: 4.73\n",
      "Current: 5.00, Next: 8.00, Predicted: 8.10\n",
      "Current: 8.00, Next: 13.00, Predicted: 13.15\n",
      "Current: 13.00, Next: 21.00, Predicted: 21.17\n",
      "Current: 21.00, Next: 34.00, Predicted: 34.02\n"
     ]
    }
   ],
   "source": [
    "with torch.no_grad():\n",
    "    pred_seq, _ = model(input_seq)\n",
    "\n",
    "for current, actual, pred in zip(input_seq, target_seq, pred_seq):\n",
    "    print(f\"Current: {current.item():.2f}, Next: {actual.item():.2f}, Predicted: {pred.item():.2f}\")\n"
   ]
  },
  {
   "cell_type": "code",
   "execution_count": null,
   "id": "3f52f420-b0ce-4232-b7b8-3fe38315b64f",
   "metadata": {},
   "outputs": [],
   "source": []
  }
 ],
 "metadata": {
  "kernelspec": {
   "display_name": "Python 3 (ipykernel)",
   "language": "python",
   "name": "python3"
  },
  "language_info": {
   "codemirror_mode": {
    "name": "ipython",
    "version": 3
   },
   "file_extension": ".py",
   "mimetype": "text/x-python",
   "name": "python",
   "nbconvert_exporter": "python",
   "pygments_lexer": "ipython3",
   "version": "3.9.20"
  }
 },
 "nbformat": 4,
 "nbformat_minor": 5
}
