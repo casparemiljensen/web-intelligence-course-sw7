{
 "cells": [
  {
   "cell_type": "markdown",
   "id": "1e5a9e28-680a-4347-9c2c-34b6bd6d6556",
   "metadata": {},
   "source": [
    "### Web Intelligence - Exercise 10"
   ]
  },
  {
   "cell_type": "markdown",
   "source": [
    "In this exercise, we will explore several prominent techniques for learning word representations. First, we will implement a matrix decomposition-based word embedding model, **Latent Semantic Analysis (LSA)**. These models leverage matrix factorization to capture semantic relationships in text, providing an introduction to the underlying principles of word representation.\n",
    "\n",
    "Next, we will implement a neural-based approach, the **SkipGram** model of the **Word2Vec** framework. The SkipGram architecture is designed to predict surrounding context words given a target word, effectively learning word representations that capture meaningful relationships between words in a corpus.\n",
    "\n",
    "We will work on the [CMU Book Summary](https://www.cs.cmu.edu/~dbamman/booksummaries.html) dataset that consists of plot summaries for $16,559$ books extracted from Wikipedia. Throughout the exercise, we will analyze and compare these methods, discussing their advantages, limitations, and practical applications in natural language processing tasks. "
   ],
   "metadata": {
    "collapsed": false
   },
   "id": "c716960bb166a2b2"
  },
  {
   "cell_type": "markdown",
   "source": [
    "**Question 1.** In this exercise, we will implement the Latent Semantic Analysis (LSA)."
   ],
   "metadata": {
    "collapsed": false
   },
   "id": "a1e86595d594d43a"
  },
  {
   "cell_type": "code",
   "execution_count": 1,
   "id": "fff37314-ed5b-4bc0-9d65-9a7532fbf904",
   "metadata": {
    "ExecuteTime": {
     "end_time": "2025-01-14T09:59:29.734761900Z",
     "start_time": "2025-01-14T09:59:21.044742700Z"
    }
   },
   "outputs": [],
   "source": [
    "import os.path\n",
    "\n",
    "from tqdm.notebook import tqdm\n",
    "# For loading the dataset\n",
    "from datasets import load_dataset\n",
    "\n",
    "# Preprocessing packages\n",
    "import re\n",
    "from nltk.corpus import stopwords\n",
    "from nltk.tokenize import word_tokenize\n",
    "from nltk.stem import WordNetLemmatizer"
   ]
  },
  {
   "cell_type": "markdown",
   "id": "6a29251f-9d2d-4e95-89dd-b2601ef9a5b9",
   "metadata": {},
   "source": [
    "Load the dataset and preprocess the book summaries."
   ]
  },
  {
   "cell_type": "code",
   "execution_count": 2,
   "id": "9e016111-703e-455f-9bb2-57a9cf5b4831",
   "metadata": {
    "ExecuteTime": {
     "end_time": "2025-01-14T09:59:32.920420600Z",
     "start_time": "2025-01-14T09:59:29.733760600Z"
    }
   },
   "outputs": [],
   "source": [
    "# Load the CMU Book Summary Corpus dataset and get all the summaries.\n",
    "ld = load_dataset(\"textminr/cmu-book-summaries\")['train']\n",
    "summaries = [data['summary'] for data in ld]"
   ]
  },
  {
   "cell_type": "code",
   "execution_count": 3,
   "id": "18d66ecc6aeec364",
   "metadata": {
    "ExecuteTime": {
     "end_time": "2025-01-14T09:59:55.652793200Z",
     "start_time": "2025-01-14T09:59:32.923331600Z"
    }
   },
   "outputs": [
    {
     "data": {
      "text/plain": "Pre-processing text:   0%|          | 0/16559 [00:00<?, ?it/s]",
      "application/vnd.jupyter.widget-view+json": {
       "version_major": 2,
       "version_minor": 0,
       "model_id": "c531e91310de4ecbb162dbf2f855fbe8"
      }
     },
     "metadata": {},
     "output_type": "display_data"
    }
   ],
   "source": [
    "# Complete the following preprocessing steps:\n",
    "stop_words = set(stopwords.words(\"english\"))\n",
    "\n",
    "def preprocess_texts(texts, stop_words):\n",
    "    \n",
    "    # Initialize the lemmatizer\n",
    "    lemmatizer = WordNetLemmatizer()\n",
    "    \n",
    "    cleaned_texts = []\n",
    "    for text in tqdm(texts, desc=\"Pre-processing text\"):\n",
    "        \n",
    "        # 1. Lowercase the text\n",
    "        text = text.lower()\n",
    "        \n",
    "        # 3. Remove punctuation and special characters\n",
    "        text = re.sub(r\"[^a-z\\s]\", \"\", text)\n",
    "        \n",
    "        # 4. Tokenize the text\n",
    "        words = word_tokenize(text)\n",
    "        \n",
    "        # 5. Remove stopwords\n",
    "        words = [word for word in words if word not in stop_words]\n",
    "        \n",
    "        # 6. Lemmatize the tokens \n",
    "        words = [lemmatizer.lemmatize(word) for word in words]\n",
    "        \n",
    "        # Join tokens back into a single string\n",
    "        cleaned_texts.append(\" \".join(words))\n",
    "        \n",
    "    return cleaned_texts\n",
    "\n",
    "# Run the preprocessing function on the summaries\n",
    "corpus = preprocess_texts(summaries, stop_words=stop_words)"
   ]
  },
  {
   "cell_type": "code",
   "execution_count": 4,
   "id": "ca1ce7808d87eda9",
   "metadata": {
    "ExecuteTime": {
     "end_time": "2025-01-14T09:59:55.667948100Z",
     "start_time": "2025-01-14T09:59:55.656825800Z"
    }
   },
   "outputs": [
    {
     "name": "stdout",
     "output_type": "stream",
     "text": [
      "Original:  Old Major, the old boar on the Manor Farm, calls the animals on the farm for a meeting, where he co\n",
      "Preprocessed: old major old boar manor farm call animal farm meeting compare human parasite teach animal revolutio\n"
     ]
    }
   ],
   "source": [
    "\n",
    "# You can compare the original and preprocessed summaries to see the difference.\n",
    "print(f\"Original: {summaries[0][:100]}\")\n",
    "print(f\"Preprocessed: {corpus[0][:100]}\")"
   ]
  },
  {
   "cell_type": "markdown",
   "id": "0e55aea1-60e1-4599-8b5d-329f9b056c52",
   "metadata": {},
   "source": [
    "Construct the Document-Term Matrix"
   ]
  },
  {
   "cell_type": "code",
   "execution_count": 5,
   "id": "89c0781140bd436c",
   "metadata": {
    "ExecuteTime": {
     "end_time": "2025-01-14T09:59:58.204866200Z",
     "start_time": "2025-01-14T09:59:55.669959200Z"
    }
   },
   "outputs": [
    {
     "name": "stdout",
     "output_type": "stream",
     "text": [
      "\n",
      "Terms:\n",
      " ['aaron' 'abandon' 'abandoned' 'abandoning' 'abandonment' 'abbess' 'abbey'\n",
      " 'abbot' 'abby' 'abducted']\n"
     ]
    }
   ],
   "source": [
    "\n",
    "# Note: you can only consider the top 'N' words ordered by term frequency across the corpus.\n",
    "from sklearn.feature_extraction.text import CountVectorizer\n",
    "\n",
    "vocab_size = 10000\n",
    "\n",
    "# Initialize the vectorizer\n",
    "vectorizer = CountVectorizer(stop_words=\"english\", max_features=vocab_size)\n",
    "\n",
    "# Fit and transform the vectorizer to the preprocessed corpus\n",
    "dt_matrix = vectorizer.fit_transform(corpus)\n",
    "\n",
    "# Get feature names (words)\n",
    "terms = vectorizer.get_feature_names_out()\n",
    "# Display the first few terms\n",
    "print(\"\\nTerms:\\n\", terms[:10])\n"
   ]
  },
  {
   "cell_type": "markdown",
   "id": "49e7add3-344f-483d-b89c-7304d62fa377",
   "metadata": {},
   "source": [
    "Construct the Term Frequency-Inverse Document Frequency (TF-IDF) Weighting"
   ]
  },
  {
   "cell_type": "code",
   "execution_count": 6,
   "id": "d2e0cdbde08a54f4",
   "metadata": {
    "ExecuteTime": {
     "end_time": "2025-01-14T09:59:58.315969500Z",
     "start_time": "2025-01-14T09:59:58.205886400Z"
    }
   },
   "outputs": [
    {
     "name": "stdout",
     "output_type": "stream",
     "text": [
      "\n",
      "TF-IDF Matrix:\n",
      "   (0, 28)\t0.04150504697109791\n",
      "  (0, 59)\t0.017880438439147568\n",
      "  (0, 62)\t0.024050614704513258\n",
      "  (0, 65)\t0.02148900220953582\n",
      "  (0, 101)\t0.019971252959796713\n",
      "  (0, 106)\t0.025405365080079376\n",
      "  (0, 110)\t0.023893419238681803\n",
      "  (0, 144)\t0.023427409569694274\n",
      "  (0, 146)\t0.028160637656986585\n",
      "  (0, 249)\t0.09254085191660141\n",
      "  (0, 285)\t0.020202945121143484\n",
      "  (0, 294)\t0.02759108894982344\n",
      "  (0, 306)\t0.024863156853871606\n",
      "  (0, 382)\t0.5899226349451504\n",
      "  (0, 399)\t0.03845058365259945\n",
      "  (0, 448)\t0.013862127897737705\n",
      "  (0, 491)\t0.015845144349549038\n",
      "  (0, 499)\t0.019013388868692853\n",
      "  (0, 563)\t0.021664340850956573\n",
      "  (0, 598)\t0.021980774729014246\n",
      "  (0, 631)\t0.012484875364678306\n",
      "  (0, 636)\t0.03216995352535589\n",
      "  (0, 717)\t0.010649333876096276\n",
      "  (0, 831)\t0.01343579505830276\n",
      "  (0, 846)\t0.042099843524759734\n",
      "  :\t:\n",
      "  (4, 8803)\t0.03212315565655537\n",
      "  (4, 8806)\t0.047354241570513426\n",
      "  (4, 8826)\t0.046643489355269636\n",
      "  (4, 8836)\t0.03794523028781552\n",
      "  (4, 8847)\t0.03692569007328962\n",
      "  (4, 8967)\t0.04647512558107003\n",
      "  (4, 8969)\t0.10659094823534634\n",
      "  (4, 9066)\t0.02479750248348664\n",
      "  (4, 9084)\t0.06939222706937924\n",
      "  (4, 9087)\t0.06602463613155343\n",
      "  (4, 9199)\t0.03991145776149882\n",
      "  (4, 9257)\t0.024611772329650297\n",
      "  (4, 9432)\t0.05243631319854337\n",
      "  (4, 9445)\t0.0372041459457171\n",
      "  (4, 9486)\t0.04300405518087491\n",
      "  (4, 9556)\t0.04039535445172215\n",
      "  (4, 9586)\t0.04145946759374981\n",
      "  (4, 9707)\t0.04261530303134514\n",
      "  (4, 9713)\t0.02204436082781455\n",
      "  (4, 9756)\t0.01888662974228088\n",
      "  (4, 9763)\t0.03224710868300664\n",
      "  (4, 9907)\t0.07756112384943895\n",
      "  (4, 9963)\t0.01745265777219193\n",
      "  (4, 9974)\t0.01960973232585562\n",
      "  (4, 9998)\t0.28487400854121814\n"
     ]
    }
   ],
   "source": [
    "from sklearn.feature_extraction.text import TfidfTransformer\n",
    "\n",
    "# Initialize the transformer\n",
    "tfidf_transformer = TfidfTransformer()\n",
    "\n",
    "# Fit and transform the document-term matrix to the TF-IDF matrix\n",
    "tfidf_matrix = tfidf_transformer.fit_transform(dt_matrix)\n",
    "\n",
    "# Display the first few terms\n",
    "print(\"\\nTF-IDF Matrix:\\n\", tfidf_matrix[:5])\n"
   ]
  },
  {
   "cell_type": "markdown",
   "id": "5117d862-2934-44b2-9ba8-11bdfaa7f20a",
   "metadata": {},
   "source": [
    "Perfom Singular Value Decomposition (SVD) and Dimensionality Reduction"
   ]
  },
  {
   "cell_type": "code",
   "execution_count": 7,
   "id": "45228affb9bf0d37",
   "metadata": {
    "ExecuteTime": {
     "end_time": "2025-01-14T09:59:59.347185900Z",
     "start_time": "2025-01-14T09:59:58.317968Z"
    }
   },
   "outputs": [
    {
     "name": "stdout",
     "output_type": "stream",
     "text": [
      "\n",
      "Top k- singular values:\n",
      " [17.82432879  7.94587596  6.97479132  6.25583585  5.92562977  5.66415625\n",
      "  5.59209614  5.55013998  5.38315779  5.1758549   5.10314635  5.07500647\n",
      "  4.96575891  4.92335685  4.8769072   4.82142292  4.79849963  4.77217133\n",
      "  4.74419834  4.64729459  4.6247623   4.60609472  4.57410815  4.52926954\n",
      "  4.51877933  4.4791294   4.46241974  4.44398562  4.43039021  4.39791334\n",
      "  4.36031844  4.34162853]\n"
     ]
    }
   ],
   "source": [
    "k = 32\n",
    "\n",
    "import numpy as np\n",
    "import pandas as pd\n",
    "from scipy.sparse.linalg import svds\n",
    "U, S, Vh = svds(tfidf_matrix, k=k)\n",
    "\n",
    "index = np.argsort(S)[::-1]\n",
    "U, S, Vh = U[:, index], S[index], Vh[index]\n",
    "\n",
    "# Print the singular values\n",
    "print(\"\\nTop k- singular values:\\n\", S)\n",
    "\n",
    "# Define the word embeddings\n",
    "# Note that the columns of SVh.T define the word embeddings, i.e. rows of the VhS\n",
    "# SVh.T is also equal to U^TX so the rows of (X^TU) also correspond the same word embeddings.\n",
    "word_embeddings = np.dot(np.diag(S), Vh).T\n"
   ]
  },
  {
   "cell_type": "markdown",
   "id": "0f4d9622-4ff7-4016-8a9c-d0a7e6aade9e",
   "metadata": {},
   "source": [
    "Generate Word Embeddings and Analyze Similarity Between Words"
   ]
  },
  {
   "cell_type": "code",
   "execution_count": 8,
   "id": "2aac9536b614fae",
   "metadata": {
    "ExecuteTime": {
     "end_time": "2025-01-14T10:00:00.131087400Z",
     "start_time": "2025-01-14T09:59:59.350186Z"
    }
   },
   "outputs": [
    {
     "data": {
      "text/plain": "<Figure size 600x400 with 1 Axes>",
      "image/png": "[encoded data removed]"
     },
     "metadata": {},
     "output_type": "display_data"
    }
   ],
   "source": [
    "import matplotlib.pyplot as plt\n",
    "from sklearn.manifold import TSNE\n",
    "from sklearn.decomposition import PCA\n",
    "import seaborn as sns\n",
    "\n",
    "words_to_explore= [\n",
    "    'king', 'queen', 'woman', 'man', 'man', 'woman', 'boy', 'daughter', \n",
    "    #'dog', 'cat', 'horse', 'elephant', 'fish', 'bird', 'lizard', 'snake',\n",
    "    #'doctor', 'nurse', 'scientist', 'teacher', 'engineer', 'artist', 'musician', 'writer',\n",
    "    #'denmark', 'sweden', 'france', 'germany', 'spain', 'italy', 'portugal', 'turkey',\n",
    "]\n",
    "selected_ids = [vectorizer.vocabulary_[word] for word in words_to_explore]\n",
    "selected_word_embeddings = word_embeddings[selected_ids, :]\n",
    "# Visualize the word embeddings using t-SNE or PCA for dimensionality reduction to 2D\n",
    "#tsne = TSNE(n_components=2, random_state=0)\n",
    "#projected_embs = tsne.fit_transform(selected_word_embeddings)\n",
    "pca = PCA(n_components=2)\n",
    "projected_embs = pca.fit_transform(selected_word_embeddings)[:,:2]\n",
    "\n",
    "\n",
    "# Visualize the word embeddings using PCA for dimensionality reduction to 2D\n",
    "projected_embs = PCA(n_components=2).fit_transform(selected_word_embeddings)[:,:2]\n",
    "\n",
    "plt.figure(figsize=(6,4), frameon=False)\n",
    "plt.scatter(projected_embs[:,0], projected_embs[:,1], edgecolors='k', c='r')\n",
    "for word, (x,y) in zip(words_to_explore, projected_embs):\n",
    "    plt.text(x+0.05, y+0.05, word)\n",
    "plt.xlabel('Dim 1', fontsize=10)\n",
    "plt.ylabel('Dim 2', fontsize=10)\n",
    "plt.tight_layout()\n",
    "plt.box(False)\n",
    "plt.show()\n",
    "\n"
   ]
  },
  {
   "cell_type": "code",
   "execution_count": 9,
   "id": "3fa279de7b9b5671",
   "metadata": {
    "ExecuteTime": {
     "end_time": "2025-01-14T10:00:00.509524Z",
     "start_time": "2025-01-14T10:00:00.131087400Z"
    }
   },
   "outputs": [
    {
     "name": "stdout",
     "output_type": "stream",
     "text": [
      "Cosine similarity between 'king' and 'queen': 0.9401573365154285\n",
      "Top 5 similar words to 'king': [('coronation', 0.9438202898157546), ('queen', 0.9401573365154285), ('throne', 0.9365763575686025), ('crowned', 0.934686036005121), ('rhemuth', 0.9269274741745209)]\n"
     ]
    }
   ],
   "source": [
    "# Analyzing similarity between words\n",
    "from sklearn.metrics.pairwise import cosine_similarity\n",
    "\n",
    "def cosine_similarity_terms(word1, word2, word_embeddings_df):\n",
    "    vec1 = word_embeddings_df.loc[word1].values.reshape(1, -1)\n",
    "    vec2 = word_embeddings_df.loc[word2].values.reshape(1, -1)\n",
    "    similarity = cosine_similarity(vec1, vec2)\n",
    "    return similarity[0][0]\n",
    "\n",
    "# Find top 5 similar words for a given word\n",
    "def top_similar_words(word, word_embeddings_df, terms, top_n=5):\n",
    "    target_vector = word_embeddings_df.loc[word].values.reshape(1, -1)\n",
    "    similarities = cosine_similarity(word_embeddings_df, target_vector).flatten()\n",
    "    top_indices = np.argsort(similarities)[-top_n-1:-1][::-1]  # Exclude the word itself\n",
    "    similar_words = [(terms[i], similarities[i]) for i in top_indices]\n",
    "    return similar_words\n",
    "\n",
    "word_embeddings_df = pd.DataFrame(word_embeddings, index=terms)\n",
    "\n",
    "word1, word2 = \"king\", \"queen\"\n",
    "# Test cosine similarity function\n",
    "print(f\"Cosine similarity between '{word1}' and '{word2}': {cosine_similarity_terms(word1, word2, word_embeddings_df)}\")\n",
    "word = \"king\"\n",
    "print(f\"Top 5 similar words to '{word}': {top_similar_words(word, word_embeddings_df, terms, top_n=5)}\")"
   ]
  },
  {
   "cell_type": "markdown",
   "id": "c1ea993e-949f-4f6a-b7d6-8cc0a3f01693",
   "metadata": {},
   "source": [
    "Compare Book Summaries"
   ]
  },
  {
   "cell_type": "code",
   "execution_count": 10,
   "id": "f3792e21df832835",
   "metadata": {
    "ExecuteTime": {
     "end_time": "2025-01-14T10:00:02.962906Z",
     "start_time": "2025-01-14T10:00:00.161088400Z"
    }
   },
   "outputs": [
    {
     "name": "stdout",
     "output_type": "stream",
     "text": [
      "\n",
      "Summary Similarities (Cosine Similarity):\n",
      "                Summary 1  Summary 2  Summary 3  Summary 4  Summary 5  \\\n",
      "Summary 1       1.000000  -0.036871   0.395550   0.318123  -0.015009   \n",
      "Summary 2      -0.036871   1.000000  -0.007497   0.143525   0.074623   \n",
      "Summary 3       0.395550  -0.007497   1.000000   0.065269  -0.144059   \n",
      "Summary 4       0.318123   0.143525   0.065269   1.000000   0.282950   \n",
      "Summary 5      -0.015009   0.074623  -0.144059   0.282950   1.000000   \n",
      "...                  ...        ...        ...        ...        ...   \n",
      "Summary 16555  -0.097693  -0.019470   0.164275   0.120111   0.227327   \n",
      "Summary 16556   0.327779   0.351161   0.354324  -0.106347  -0.296311   \n",
      "Summary 16557  -0.077746   0.101362  -0.025403   0.136211   0.009688   \n",
      "Summary 16558   0.220101   0.017644   0.300007   0.220255  -0.238999   \n",
      "Summary 16559   0.039455   0.084514   0.156596  -0.008125  -0.120293   \n",
      "\n",
      "               Summary 6  Summary 7  Summary 8  Summary 9  Summary 10  ...  \\\n",
      "Summary 1      -0.032043  -0.018210   0.468421  -0.191022    0.178939  ...   \n",
      "Summary 2      -0.095930  -0.142336   0.069389   0.320757    0.157529  ...   \n",
      "Summary 3      -0.167626  -0.152885   0.771958   0.037131    0.229190  ...   \n",
      "Summary 4      -0.030401   0.127745   0.068951  -0.252931    0.142958  ...   \n",
      "Summary 5      -0.038997   0.291236  -0.123151   0.395741    0.047129  ...   \n",
      "...                  ...        ...        ...        ...         ...  ...   \n",
      "Summary 16555   0.076745   0.475469   0.130988  -0.167376   -0.067794  ...   \n",
      "Summary 16556   0.019116  -0.244224   0.347076   0.000743    0.249510  ...   \n",
      "Summary 16557   0.156432  -0.116702  -0.027040   0.354552    0.046081  ...   \n",
      "Summary 16558  -0.054274  -0.174710   0.094118  -0.248334    0.071552  ...   \n",
      "Summary 16559  -0.029112  -0.197927   0.018609   0.023385   -0.043651  ...   \n",
      "\n",
      "               Summary 16550  Summary 16551  Summary 16552  Summary 16553  \\\n",
      "Summary 1           0.197641       0.177578       0.227497      -0.066630   \n",
      "Summary 2           0.097558      -0.085951       0.165725       0.102257   \n",
      "Summary 3           0.018865      -0.089554       0.145010       0.286822   \n",
      "Summary 4           0.097372       0.654868       0.222616      -0.105525   \n",
      "Summary 5           0.171471       0.102768      -0.024282      -0.173223   \n",
      "...                      ...            ...            ...            ...   \n",
      "Summary 16555       0.205313       0.110043      -0.046737       0.216716   \n",
      "Summary 16556       0.080593       0.003799       0.320529       0.229898   \n",
      "Summary 16557      -0.165788       0.391012       0.169001      -0.181707   \n",
      "Summary 16558      -0.007104       0.544123       0.385434       0.036145   \n",
      "Summary 16559      -0.218396       0.175341       0.090399       0.144302   \n",
      "\n",
      "               Summary 16554  Summary 16555  Summary 16556  Summary 16557  \\\n",
      "Summary 1           0.018728      -0.097693       0.327779      -0.077746   \n",
      "Summary 2           0.007094      -0.019470       0.351161       0.101362   \n",
      "Summary 3           0.119841       0.164275       0.354324      -0.025403   \n",
      "Summary 4          -0.098888       0.120111      -0.106347       0.136211   \n",
      "Summary 5           0.050703       0.227327      -0.296311       0.009688   \n",
      "...                      ...            ...            ...            ...   \n",
      "Summary 16555       0.125228       1.000000      -0.107833      -0.070980   \n",
      "Summary 16556       0.039281      -0.107833       1.000000      -0.105462   \n",
      "Summary 16557       0.292344      -0.070980      -0.105462       1.000000   \n",
      "Summary 16558       0.132099       0.024800       0.627608      -0.023938   \n",
      "Summary 16559       0.523748      -0.109817       0.200382       0.413697   \n",
      "\n",
      "               Summary 16558  Summary 16559  \n",
      "Summary 1           0.220101       0.039455  \n",
      "Summary 2           0.017644       0.084514  \n",
      "Summary 3           0.300007       0.156596  \n",
      "Summary 4           0.220255      -0.008125  \n",
      "Summary 5          -0.238999      -0.120293  \n",
      "...                      ...            ...  \n",
      "Summary 16555       0.024800      -0.109817  \n",
      "Summary 16556       0.627608       0.200382  \n",
      "Summary 16557      -0.023938       0.413697  \n",
      "Summary 16558       1.000000       0.066033  \n",
      "Summary 16559       0.066033       1.000000  \n",
      "\n",
      "[16559 rows x 16559 columns]\n"
     ]
    }
   ],
   "source": [
    "# Define the book summary vectors\n",
    "doc_embedding = U\n",
    "\n",
    "# Compute cosine similarity between documents\n",
    "doc_similarities = cosine_similarity(doc_embedding)\n",
    "doc_similarities_df = pd.DataFrame(\n",
    "    doc_similarities, columns=[f\"Summary {i+1}\" for i in range(len(corpus))], index=[f\"Summary {i+1}\" for i in range(len(corpus))])\n",
    "\n",
    "print(\"\\nSummary Similarities (Cosine Similarity):\\n\", doc_similarities_df)"
   ]
  },
  {
   "cell_type": "markdown",
   "id": "1d9c0da9d1396235",
   "metadata": {},
   "source": [
    "**Question 2.** In this exercise, you will explore pre-trained word embeddings on the [Google News dataset](https://code.google.com/archive/p/word2vec/), and you will familiarize yourself with the **Gensim** package for handling the word embeddings. You will also investigate the analogy relationships between words based on their embeddings."
   ]
  },
  {
   "cell_type": "code",
   "execution_count": 11,
   "id": "36b38cb2758cbac2",
   "metadata": {
    "ExecuteTime": {
     "end_time": "2025-01-14T10:00:04.149421600Z",
     "start_time": "2025-01-14T10:00:02.969291700Z"
    }
   },
   "outputs": [],
   "source": [
    "import os\n",
    "import numpy as np\n",
    "import gensim\n",
    "from gensim.test.utils import datapath\n",
    "from sklearn.decomposition import PCA\n"
   ]
  },
  {
   "cell_type": "markdown",
   "id": "98af1395fea97f1e",
   "metadata": {},
   "source": [
    "Download the pre-trained word embeddings from [Google News dataset](https://code.google.com/archive/p/word2vec/) and use the *Gensim* package to load and work with the embeddings."
   ]
  },
  {
   "cell_type": "code",
   "execution_count": 12,
   "id": "1a11a28ec7600eba",
   "metadata": {
    "ExecuteTime": {
     "end_time": "2025-01-14T10:00:41.827811Z",
     "start_time": "2025-01-14T10:00:04.151421500Z"
    }
   },
   "outputs": [],
   "source": [
    "# Define the path of the pretrained model\n",
    "googlenews_vectors = os.path.realpath(os.path.join(\n",
    "    os.getcwd(), './GoogleNews-vectors-negative300.bin.gz'\n",
    "))\n",
    "gensim_model = gensim.models.KeyedVectors.load_word2vec_format(googlenews_vectors, binary = True)"
   ]
  },
  {
   "cell_type": "markdown",
   "id": "4e820c33d4aa987b",
   "metadata": {},
   "source": [
    " Use the following example list of words: 'king', 'queen', 'woman', 'man', 'fish', 'bird', 'snake', 'elephant' (or construct your own list of at least $6$-$10$ meaningful and diverse words.\n",
    "\n",
    "Reduce the dimensionality of the word embeddings to $2D$ space using PCA and visualize the words in the new latent space."
   ]
  },
  {
   "cell_type": "code",
   "execution_count": 13,
   "id": "5f17d9d6f8842524",
   "metadata": {
    "ExecuteTime": {
     "end_time": "2025-01-14T10:00:42.239144400Z",
     "start_time": "2025-01-14T10:00:42.221116300Z"
    }
   },
   "outputs": [],
   "source": [
    "\n",
    "def display_pca_scatterplot(model, words=None, sample=0, save=False, file_path='scatterplot.png'):\n",
    "    ### Inspired by the WI materials in 2023 and by http://web.stanford.edu/class/cs224n/\n",
    "    \n",
    "    assert words is None or sample == 0, f\"You must specify either words or sample, not both\"\n",
    "    \n",
    "    if words is None:\n",
    "        words = [ word for word in model.key_to_index.keys() ]\n",
    "    if sample > 0:\n",
    "        words = np.random.choice(list(model.key_to_index.keys()), sample)\n",
    "        \n",
    "    word_vectors = np.array([model[w] for w in words])\n",
    "\n",
    "    projected_embs = PCA(n_components=2).fit_transform(word_vectors)[:,:2]\n",
    "    \n",
    "    plt.figure(figsize=(6,4), frameon=False)\n",
    "    plt.scatter(projected_embs[:,0], projected_embs[:,1], edgecolors='k', c='r')\n",
    "    for word, (x,y) in zip(words, projected_embs):\n",
    "        plt.text(x+0.05, y+0.05, word)\n",
    "    plt.xlabel('Dim 1', fontsize=10)\n",
    "    plt.ylabel('Dim 2', fontsize=10)\n",
    "    plt.tight_layout()\n",
    "    plt.box(False)\n",
    "    if save:\n",
    "        plt.savefig(file_path)\n",
    "    else:\n",
    "        plt.show()\n"
   ]
  },
  {
   "cell_type": "code",
   "execution_count": 14,
   "id": "a83ecf0d99d9032d",
   "metadata": {
    "ExecuteTime": {
     "end_time": "2025-01-14T10:00:42.861542Z",
     "start_time": "2025-01-14T10:00:42.241730600Z"
    }
   },
   "outputs": [
    {
     "data": {
      "text/plain": "<Figure size 600x400 with 1 Axes>",
      "image/png": "[encoded data removed]"
     },
     "metadata": {},
     "output_type": "display_data"
    }
   ],
   "source": [
    "words_to_explore= [\n",
    "    'king', 'queen', 'woman', 'man', 'fish', 'bird', 'snake', 'elephant',\n",
    "]\n",
    "display_pca_scatterplot(model=gensim_model, words=words_to_explore)\n"
   ]
  },
  {
   "cell_type": "markdown",
   "id": "46908d4ea44dcea3",
   "metadata": {},
   "source": [
    "Investigate the relationships between the words based on their embeddings."
   ]
  },
  {
   "cell_type": "code",
   "execution_count": 15,
   "id": "5ee1332fcd75af78",
   "metadata": {
    "ExecuteTime": {
     "end_time": "2025-01-14T10:01:26.685955700Z",
     "start_time": "2025-01-14T10:00:42.870737900Z"
    }
   },
   "outputs": [
    {
     "data": {
      "text/plain": "[('queen', 0.7118193507194519),\n ('monarch', 0.6189674139022827),\n ('princess', 0.5902431011199951),\n ('crown_prince', 0.5499460697174072),\n ('prince', 0.5377321839332581),\n ('kings', 0.5236844420433044),\n ('Queen_Consort', 0.5235945582389832),\n ('queens', 0.5181134343147278),\n ('sultan', 0.5098593831062317),\n ('monarchy', 0.5087411999702454)]"
     },
     "execution_count": 15,
     "metadata": {},
     "output_type": "execute_result"
    }
   ],
   "source": [
    "gensim_model.most_similar(positive=[\"king\", \"woman\"],negative=[\"man\"])"
   ]
  },
  {
   "cell_type": "markdown",
   "id": "8857e8aa81b4689b",
   "metadata": {},
   "source": [
    "Assess the overall accuracy of the embeddings and analyze strengths and weaknesses across analogy types (syntactic vs. semantic).\n"
   ]
  },
  {
   "cell_type": "code",
   "execution_count": 16,
   "id": "69fa8e35e0103832",
   "metadata": {
    "ExecuteTime": {
     "end_time": "2025-01-14T10:05:08.846825400Z",
     "start_time": "2025-01-14T10:01:26.711568500Z"
    }
   },
   "outputs": [
    {
     "name": "stdout",
     "output_type": "stream",
     "text": [
      "Overall evaluation score: 0.7320405239459681\n",
      "Section: capital-common-countries - Correct: 421 - Incorrect: 85 - Accuracy: 0.8320158102766798\n",
      "Section: capital-world - Correct: 3552 - Incorrect: 972 - Accuracy: 0.7851458885941645\n",
      "Section: currency - Correct: 230 - Incorrect: 636 - Accuracy: 0.26558891454965355\n",
      "Section: city-in-state - Correct: 1779 - Incorrect: 688 - Accuracy: 0.72111876773409\n",
      "Section: family - Correct: 436 - Incorrect: 70 - Accuracy: 0.8616600790513834\n",
      "Section: gram1-adjective-to-adverb - Correct: 290 - Incorrect: 702 - Accuracy: 0.2923387096774194\n",
      "Section: gram2-opposite - Correct: 353 - Incorrect: 459 - Accuracy: 0.43472906403940886\n",
      "Section: gram3-comparative - Correct: 1216 - Incorrect: 116 - Accuracy: 0.9129129129129129\n",
      "Section: gram4-superlative - Correct: 987 - Incorrect: 135 - Accuracy: 0.8796791443850267\n",
      "Section: gram5-present-participle - Correct: 829 - Incorrect: 227 - Accuracy: 0.7850378787878788\n",
      "Section: gram6-nationality-adjective - Correct: 1442 - Incorrect: 157 - Accuracy: 0.9018136335209506\n",
      "Section: gram7-past-tense - Correct: 1020 - Incorrect: 540 - Accuracy: 0.6538461538461539\n",
      "Section: gram8-plural - Correct: 1159 - Incorrect: 173 - Accuracy: 0.8701201201201201\n",
      "Section: gram9-plural-verbs - Correct: 593 - Incorrect: 277 - Accuracy: 0.6816091954022988\n",
      "Section: Total accuracy - Correct: 14307 - Incorrect: 5237 - Accuracy: 0.7320405239459681\n"
     ]
    }
   ],
   "source": [
    "# print(\"Current Working Directory:\", datapath('./questions-words.txt'))\n",
    "\n",
    "accuracy = gensim_model.evaluate_word_analogies(datapath('./questions-words.txt'), dummy4unknown=True)\n",
    "\n",
    "\n",
    "\n",
    "# The first entry stores the overall evaluation score on the entire evaluation set\n",
    "print(f\"Overall evaluation score: {accuracy[0]}\")\n",
    "for current_dict in accuracy[1]:\n",
    "    correct_count, incorrect_count = len(current_dict['correct']), len(current_dict['incorrect'])\n",
    "    section_accuracy = correct_count / float(correct_count + incorrect_count)\n",
    "    print(\n",
    "        f\"Section: {current_dict['section']} - Correct: {correct_count} - Incorrect: {incorrect_count} - Accuracy: {section_accuracy}\"\n",
    "    )"
   ]
  },
  {
   "cell_type": "markdown",
   "id": "6b1db6b95665a96b",
   "metadata": {},
   "source": [
    "**Question 3.** In this exercise, we will implement the **SkipGram** model of the **Word2Vec** framework."
   ]
  },
  {
   "cell_type": "code",
   "execution_count": 17,
   "id": "f32bbfbd2f1a51a3",
   "metadata": {
    "ExecuteTime": {
     "end_time": "2025-01-14T10:05:24.970121800Z",
     "start_time": "2025-01-14T10:05:08.858860800Z"
    }
   },
   "outputs": [],
   "source": [
    "# Import the necessary packages\n",
    "import torch\n",
    "from torch.utils.data import DataLoader\n",
    "from tqdm.notebook import tqdm"
   ]
  },
  {
   "cell_type": "markdown",
   "id": "6b77001a-d9f5-4000-884a-dac31f84bec4",
   "metadata": {},
   "source": [
    "Prepare the training data"
   ]
  },
  {
   "cell_type": "code",
   "execution_count": 18,
   "id": "d35c617105e7cf54",
   "metadata": {
    "ExecuteTime": {
     "end_time": "2025-01-14T10:05:24.984467400Z",
     "start_time": "2025-01-14T10:05:24.971136Z"
    }
   },
   "outputs": [],
   "source": [
    "corpus = corpus # Define the corpus (preprocessed summaries)\n"
   ]
  },
  {
   "cell_type": "code",
   "execution_count": 19,
   "id": "17a76a2c0543ae43",
   "metadata": {
    "ExecuteTime": {
     "end_time": "2025-01-14T10:05:27.254943900Z",
     "start_time": "2025-01-14T10:05:24.990414700Z"
    }
   },
   "outputs": [],
   "source": [
    "min_count = 5 # Discard the words that appear less or equal to 'min_count'\n",
    "window_size = 5 # You can choose small values to reduce computational cost, but it might affect the performance of the model\n",
    "\n",
    "from collections import Counter\n",
    "sentences = [sentence.split() for sentence in corpus]\n",
    "list_of_words = [word for sentence in sentences for word in sentence]\n",
    "vocab = set(list_of_words) \n",
    "word_counts = Counter(list_of_words)\n",
    "\n",
    "# Define the vocabulary, i.e. set of all distinct words that appear more than 'min_count' times in the corpus.\n",
    "vocab = set([word for word in vocab if word_counts[word] > min_count]) \n",
    "vocab_size = len(vocab) \n",
    "# Construct the dictionaries that maps words to unique ids and vice versa.\n",
    "word2Id = {word: id for id, word in enumerate(vocab)}\n",
    "id2Word = {id: word for word, id in word2Id.items()}\n",
    "\n"
   ]
  },
  {
   "cell_type": "code",
   "execution_count": 20,
   "id": "7cd887f9bc9930c3",
   "metadata": {
    "ExecuteTime": {
     "end_time": "2025-01-14T10:05:58.703788500Z",
     "start_time": "2025-01-14T10:05:27.307820200Z"
    }
   },
   "outputs": [
    {
     "data": {
      "text/plain": "Generating center-context pairs:   0%|          | 0/16559 [00:00<?, ?it/s]",
      "application/vnd.jupyter.widget-view+json": {
       "version_major": 2,
       "version_minor": 0,
       "model_id": "0fd155d9aa1a4b3292278d0c5cf59164"
      }
     },
     "metadata": {},
     "output_type": "display_data"
    }
   ],
   "source": [
    "# Generate skip-gram training (source, context) word pairs.\n",
    "\n",
    "# You can implement the following function to generate the source-context word pairs.\n",
    "# If you wish, you can also modify the argument list\n",
    "def generate_center_context_pairs(sentences, window_size, word2Id, vocab):\n",
    "    '''\n",
    "    Given a list of sentences and a window size, generate a pair of context pairs\n",
    "    Note that a pair must be discarded if its center or context word appears less than 'min_count'.\n",
    "    :param sentences: a list of lists of words\n",
    "    :param window_size: window size\n",
    "    :param word2Id: a dictionary that maps words to ids\n",
    "    :param vocab: a set of unique words\n",
    "    :return: a list of centerId-contextId word pairs\n",
    "    '''\n",
    "    data = []\n",
    "    for sentence in tqdm(sentences, desc=\"Generating center-context pairs\"):\n",
    "        for i, word in enumerate(sentence):\n",
    "            if word in vocab:\n",
    "                center_word_id = word2Id[word]\n",
    "                context_words = [sentence[i + j] for j in range(-window_size, window_size + 1) if j != 0 and 0 <= i + j < len(sentence)]\n",
    "                for context_word in context_words:\n",
    "                    if context_word in vocab:\n",
    "                        context_word_id = word2Id[context_word]\n",
    "                        data.append((center_word_id, context_word_id))\n",
    "                    #pass\n",
    "    return data\n",
    "\n",
    "pairs = generate_center_context_pairs(sentences=sentences, window_size=window_size, word2Id=word2Id, vocab=vocab)\n",
    "# Convert the list to a torch tensor\n",
    "pairs = torch.as_tensor(pairs, dtype=torch.long)"
   ]
  },
  {
   "cell_type": "code",
   "execution_count": 21,
   "id": "f862e5643a37be1e",
   "metadata": {
    "ExecuteTime": {
     "end_time": "2025-01-14T10:05:58.717296100Z",
     "start_time": "2025-01-14T10:05:58.705814300Z"
    }
   },
   "outputs": [
    {
     "name": "stdout",
     "output_type": "stream",
     "text": [
      "Vocab size: 38312\n",
      "Number of center-context pairs: 34393094\n"
     ]
    }
   ],
   "source": [
    "# You can examine the training data\n",
    "print(f\"Vocab size: {vocab_size}\")\n",
    "print(f\"Number of center-context pairs: {pairs.shape[0]}\")"
   ]
  },
  {
   "cell_type": "markdown",
   "id": "2a810b49-ff78-4fce-b463-dbe6086e48d4",
   "metadata": {},
   "source": [
    "Implement the SkipGram Model with Softmax Function"
   ]
  },
  {
   "cell_type": "code",
   "execution_count": 22,
   "id": "481c0cc84f4bc310",
   "metadata": {
    "ExecuteTime": {
     "end_time": "2025-01-14T10:05:58.775640900Z",
     "start_time": "2025-01-14T10:05:58.721753Z"
    }
   },
   "outputs": [],
   "source": [
    "# Define the Skip-gram Model with Softmax\n",
    "class SkipGramModel(torch.nn.Module):\n",
    "    def __init__(self, vocab_size, embedding_dim):\n",
    "        super(SkipGramModel, self).__init__()\n",
    "        self.embeddings = torch.nn.Embedding(vocab_size, embedding_dim)\n",
    "        self.linear = torch.nn.Linear(embedding_dim, vocab_size)\n",
    "        \n",
    "    def forward(self, center_word):\n",
    "        # Embedding layer\n",
    "        embedding = self.embeddings(center_word)\n",
    "        # Linear layer with softmax for prediction\n",
    "        output = self.linear(embedding)\n",
    "        return output\n",
    "    \n",
    "    def get_center_embs(self, center_words = None):\n",
    "        if center_words is None:\n",
    "            return self.embeddings.weight\n",
    "        else:\n",
    "            return self.embeddings.weight.data[center_words]\n",
    "    \n",
    "    def get_context_embs(self, context_words):\n",
    "        if context_words is None:\n",
    "            return self.linear.weight\n",
    "        else:\n",
    "            return self.linear.weight.data[context_words, :]"
   ]
  },
  {
   "cell_type": "markdown",
   "id": "3378e530-e6c6-4ae3-a341-214188724c2e",
   "metadata": {},
   "source": [
    "Set the parameters required for training the model such as learning rate, embedding dimension, epochs and batch size.\n",
    "Note that chosen values for the parameters might/might not affect the optimization and the training time."
   ]
  },
  {
   "cell_type": "code",
   "execution_count": 25,
   "id": "2ac3fce033366089",
   "metadata": {
    "ExecuteTime": {
     "end_time": "2025-01-14T10:07:47.812507300Z",
     "start_time": "2025-01-14T10:07:47.763506300Z"
    }
   },
   "outputs": [
    {
     "data": {
      "text/plain": "SkipGramModel(\n  (embeddings): Embedding(38312, 100)\n  (linear): Linear(in_features=100, out_features=38312, bias=True)\n)"
     },
     "execution_count": 25,
     "metadata": {},
     "output_type": "execute_result"
    }
   ],
   "source": [
    "lr = 0.01\n",
    "epochs_num = 1\n",
    "embedding_dim = 100\n",
    "batch_size = 5000\n",
    "# batch_size = 512 \n",
    "# The batch size refers to the number of training examples processed together in a single forward and backward pass during training. It determines how much data is used at once to compute gradients and update model parameters.\n",
    "\n",
    "# Initialize model, loss, and optimizer\n",
    "model = SkipGramModel(vocab_size, embedding_dim)\n",
    "loss_function = torch.nn.CrossEntropyLoss()\n",
    "optimizer = torch.optim.Adam(model.parameters(), lr=lr)\n",
    "\n",
    "# Set the platform that we will use for training.\n",
    "device = torch.device('cpu') #torch.device(\"cuda\" if torch.cuda.is_available() else \"cpu\") (for Mac M1/M2, torch.device('mps'))\n",
    "model.to(device)"
   ]
  },
  {
   "cell_type": "markdown",
   "id": "be088d20-658c-4c2d-8c0d-428139547dc6",
   "metadata": {},
   "source": [
    "Train the model"
   ]
  },
  {
   "cell_type": "code",
   "execution_count": 26,
   "id": "a76d1923acf6a2c8",
   "metadata": {
    "ExecuteTime": {
     "end_time": "2025-01-14T10:11:13.966133900Z",
     "start_time": "2025-01-14T10:07:49.262964500Z"
    }
   },
   "outputs": [
    {
     "data": {
      "text/plain": "  0%|          | 0/1 [00:00<?, ?it/s]",
      "application/vnd.jupyter.widget-view+json": {
       "version_major": 2,
       "version_minor": 0,
       "model_id": "544b2e1f3b0843689746af55cacd597e"
      }
     },
     "metadata": {},
     "output_type": "display_data"
    },
    {
     "data": {
      "text/plain": "Epoch 0 - Current batch progress:   0%|          | 0/6879 [00:00<?, ?it/s]",
      "application/vnd.jupyter.widget-view+json": {
       "version_major": 2,
       "version_minor": 0,
       "model_id": "58ccf64f07574dd093ae75248ed1f3ec"
      }
     },
     "metadata": {},
     "output_type": "display_data"
    },
    {
     "name": "stderr",
     "output_type": "stream",
     "text": [
      "Exception ignored in: <generator object tqdm.__iter__ at 0x00000247EC606500>\n",
      "Traceback (most recent call last):\n",
      "  File \"C:\\Software\\python\\Web Intelligence\\web-intelligence-course-sw7\\venv\\lib\\site-packages\\tqdm\\std.py\", line 1196, in __iter__\n",
      "    self.close()\n",
      "  File \"C:\\Software\\python\\Web Intelligence\\web-intelligence-course-sw7\\venv\\lib\\site-packages\\tqdm\\notebook.py\", line 272, in close\n",
      "    def close(self):\n",
      "KeyboardInterrupt: \n"
     ]
    },
    {
     "ename": "KeyboardInterrupt",
     "evalue": "",
     "output_type": "error",
     "traceback": [
      "\u001B[1;31m---------------------------------------------------------------------------\u001B[0m",
      "\u001B[1;31mKeyboardInterrupt\u001B[0m                         Traceback (most recent call last)",
      "Cell \u001B[1;32mIn[26], line 15\u001B[0m\n\u001B[0;32m     13\u001B[0m \u001B[38;5;66;03m# Forward pass\u001B[39;00m\n\u001B[0;32m     14\u001B[0m optimizer\u001B[38;5;241m.\u001B[39mzero_grad()\n\u001B[1;32m---> 15\u001B[0m output \u001B[38;5;241m=\u001B[39m \u001B[43mmodel\u001B[49m\u001B[43m(\u001B[49m\u001B[43mcenter_word\u001B[49m\u001B[43m)\u001B[49m\n\u001B[0;32m     17\u001B[0m \u001B[38;5;66;03m# Calculate loss\u001B[39;00m\n\u001B[0;32m     18\u001B[0m loss \u001B[38;5;241m=\u001B[39m loss_function(output, context_word)\n",
      "File \u001B[1;32mC:\\Software\\python\\Web Intelligence\\web-intelligence-course-sw7\\venv\\lib\\site-packages\\torch\\nn\\modules\\module.py:1736\u001B[0m, in \u001B[0;36mModule._wrapped_call_impl\u001B[1;34m(self, *args, **kwargs)\u001B[0m\n\u001B[0;32m   1734\u001B[0m     \u001B[38;5;28;01mreturn\u001B[39;00m \u001B[38;5;28mself\u001B[39m\u001B[38;5;241m.\u001B[39m_compiled_call_impl(\u001B[38;5;241m*\u001B[39margs, \u001B[38;5;241m*\u001B[39m\u001B[38;5;241m*\u001B[39mkwargs)  \u001B[38;5;66;03m# type: ignore[misc]\u001B[39;00m\n\u001B[0;32m   1735\u001B[0m \u001B[38;5;28;01melse\u001B[39;00m:\n\u001B[1;32m-> 1736\u001B[0m     \u001B[38;5;28;01mreturn\u001B[39;00m \u001B[38;5;28mself\u001B[39m\u001B[38;5;241m.\u001B[39m_call_impl(\u001B[38;5;241m*\u001B[39margs, \u001B[38;5;241m*\u001B[39m\u001B[38;5;241m*\u001B[39mkwargs)\n",
      "File \u001B[1;32mC:\\Software\\python\\Web Intelligence\\web-intelligence-course-sw7\\venv\\lib\\site-packages\\torch\\nn\\modules\\module.py:1747\u001B[0m, in \u001B[0;36mModule._call_impl\u001B[1;34m(self, *args, **kwargs)\u001B[0m\n\u001B[0;32m   1742\u001B[0m \u001B[38;5;66;03m# If we don't have any hooks, we want to skip the rest of the logic in\u001B[39;00m\n\u001B[0;32m   1743\u001B[0m \u001B[38;5;66;03m# this function, and just call forward.\u001B[39;00m\n\u001B[0;32m   1744\u001B[0m \u001B[38;5;28;01mif\u001B[39;00m \u001B[38;5;129;01mnot\u001B[39;00m (\u001B[38;5;28mself\u001B[39m\u001B[38;5;241m.\u001B[39m_backward_hooks \u001B[38;5;129;01mor\u001B[39;00m \u001B[38;5;28mself\u001B[39m\u001B[38;5;241m.\u001B[39m_backward_pre_hooks \u001B[38;5;129;01mor\u001B[39;00m \u001B[38;5;28mself\u001B[39m\u001B[38;5;241m.\u001B[39m_forward_hooks \u001B[38;5;129;01mor\u001B[39;00m \u001B[38;5;28mself\u001B[39m\u001B[38;5;241m.\u001B[39m_forward_pre_hooks\n\u001B[0;32m   1745\u001B[0m         \u001B[38;5;129;01mor\u001B[39;00m _global_backward_pre_hooks \u001B[38;5;129;01mor\u001B[39;00m _global_backward_hooks\n\u001B[0;32m   1746\u001B[0m         \u001B[38;5;129;01mor\u001B[39;00m _global_forward_hooks \u001B[38;5;129;01mor\u001B[39;00m _global_forward_pre_hooks):\n\u001B[1;32m-> 1747\u001B[0m     \u001B[38;5;28;01mreturn\u001B[39;00m forward_call(\u001B[38;5;241m*\u001B[39margs, \u001B[38;5;241m*\u001B[39m\u001B[38;5;241m*\u001B[39mkwargs)\n\u001B[0;32m   1749\u001B[0m result \u001B[38;5;241m=\u001B[39m \u001B[38;5;28;01mNone\u001B[39;00m\n\u001B[0;32m   1750\u001B[0m called_always_called_hooks \u001B[38;5;241m=\u001B[39m \u001B[38;5;28mset\u001B[39m()\n",
      "Cell \u001B[1;32mIn[22], line 12\u001B[0m, in \u001B[0;36mSkipGramModel.forward\u001B[1;34m(self, center_word)\u001B[0m\n\u001B[0;32m     10\u001B[0m embedding \u001B[38;5;241m=\u001B[39m \u001B[38;5;28mself\u001B[39m\u001B[38;5;241m.\u001B[39membeddings(center_word)\n\u001B[0;32m     11\u001B[0m \u001B[38;5;66;03m# Linear layer with softmax for prediction\u001B[39;00m\n\u001B[1;32m---> 12\u001B[0m output \u001B[38;5;241m=\u001B[39m \u001B[38;5;28;43mself\u001B[39;49m\u001B[38;5;241;43m.\u001B[39;49m\u001B[43mlinear\u001B[49m\u001B[43m(\u001B[49m\u001B[43membedding\u001B[49m\u001B[43m)\u001B[49m\n\u001B[0;32m     13\u001B[0m \u001B[38;5;28;01mreturn\u001B[39;00m output\n",
      "File \u001B[1;32mC:\\Software\\python\\Web Intelligence\\web-intelligence-course-sw7\\venv\\lib\\site-packages\\torch\\nn\\modules\\module.py:1736\u001B[0m, in \u001B[0;36mModule._wrapped_call_impl\u001B[1;34m(self, *args, **kwargs)\u001B[0m\n\u001B[0;32m   1734\u001B[0m     \u001B[38;5;28;01mreturn\u001B[39;00m \u001B[38;5;28mself\u001B[39m\u001B[38;5;241m.\u001B[39m_compiled_call_impl(\u001B[38;5;241m*\u001B[39margs, \u001B[38;5;241m*\u001B[39m\u001B[38;5;241m*\u001B[39mkwargs)  \u001B[38;5;66;03m# type: ignore[misc]\u001B[39;00m\n\u001B[0;32m   1735\u001B[0m \u001B[38;5;28;01melse\u001B[39;00m:\n\u001B[1;32m-> 1736\u001B[0m     \u001B[38;5;28;01mreturn\u001B[39;00m \u001B[38;5;28mself\u001B[39m\u001B[38;5;241m.\u001B[39m_call_impl(\u001B[38;5;241m*\u001B[39margs, \u001B[38;5;241m*\u001B[39m\u001B[38;5;241m*\u001B[39mkwargs)\n",
      "File \u001B[1;32mC:\\Software\\python\\Web Intelligence\\web-intelligence-course-sw7\\venv\\lib\\site-packages\\torch\\nn\\modules\\module.py:1747\u001B[0m, in \u001B[0;36mModule._call_impl\u001B[1;34m(self, *args, **kwargs)\u001B[0m\n\u001B[0;32m   1742\u001B[0m \u001B[38;5;66;03m# If we don't have any hooks, we want to skip the rest of the logic in\u001B[39;00m\n\u001B[0;32m   1743\u001B[0m \u001B[38;5;66;03m# this function, and just call forward.\u001B[39;00m\n\u001B[0;32m   1744\u001B[0m \u001B[38;5;28;01mif\u001B[39;00m \u001B[38;5;129;01mnot\u001B[39;00m (\u001B[38;5;28mself\u001B[39m\u001B[38;5;241m.\u001B[39m_backward_hooks \u001B[38;5;129;01mor\u001B[39;00m \u001B[38;5;28mself\u001B[39m\u001B[38;5;241m.\u001B[39m_backward_pre_hooks \u001B[38;5;129;01mor\u001B[39;00m \u001B[38;5;28mself\u001B[39m\u001B[38;5;241m.\u001B[39m_forward_hooks \u001B[38;5;129;01mor\u001B[39;00m \u001B[38;5;28mself\u001B[39m\u001B[38;5;241m.\u001B[39m_forward_pre_hooks\n\u001B[0;32m   1745\u001B[0m         \u001B[38;5;129;01mor\u001B[39;00m _global_backward_pre_hooks \u001B[38;5;129;01mor\u001B[39;00m _global_backward_hooks\n\u001B[0;32m   1746\u001B[0m         \u001B[38;5;129;01mor\u001B[39;00m _global_forward_hooks \u001B[38;5;129;01mor\u001B[39;00m _global_forward_pre_hooks):\n\u001B[1;32m-> 1747\u001B[0m     \u001B[38;5;28;01mreturn\u001B[39;00m forward_call(\u001B[38;5;241m*\u001B[39margs, \u001B[38;5;241m*\u001B[39m\u001B[38;5;241m*\u001B[39mkwargs)\n\u001B[0;32m   1749\u001B[0m result \u001B[38;5;241m=\u001B[39m \u001B[38;5;28;01mNone\u001B[39;00m\n\u001B[0;32m   1750\u001B[0m called_always_called_hooks \u001B[38;5;241m=\u001B[39m \u001B[38;5;28mset\u001B[39m()\n",
      "File \u001B[1;32mC:\\Software\\python\\Web Intelligence\\web-intelligence-course-sw7\\venv\\lib\\site-packages\\torch\\nn\\modules\\linear.py:125\u001B[0m, in \u001B[0;36mLinear.forward\u001B[1;34m(self, input)\u001B[0m\n\u001B[0;32m    124\u001B[0m \u001B[38;5;28;01mdef\u001B[39;00m\u001B[38;5;250m \u001B[39m\u001B[38;5;21mforward\u001B[39m(\u001B[38;5;28mself\u001B[39m, \u001B[38;5;28minput\u001B[39m: Tensor) \u001B[38;5;241m-\u001B[39m\u001B[38;5;241m>\u001B[39m Tensor:\n\u001B[1;32m--> 125\u001B[0m     \u001B[38;5;28;01mreturn\u001B[39;00m \u001B[43mF\u001B[49m\u001B[38;5;241;43m.\u001B[39;49m\u001B[43mlinear\u001B[49m\u001B[43m(\u001B[49m\u001B[38;5;28;43minput\u001B[39;49m\u001B[43m,\u001B[49m\u001B[43m \u001B[49m\u001B[38;5;28;43mself\u001B[39;49m\u001B[38;5;241;43m.\u001B[39;49m\u001B[43mweight\u001B[49m\u001B[43m,\u001B[49m\u001B[43m \u001B[49m\u001B[38;5;28;43mself\u001B[39;49m\u001B[38;5;241;43m.\u001B[39;49m\u001B[43mbias\u001B[49m\u001B[43m)\u001B[49m\n",
      "\u001B[1;31mKeyboardInterrupt\u001B[0m: "
     ]
    }
   ],
   "source": [
    "# Build a data loader for pairs vector in pytorch\n",
    "data_loader = DataLoader(pairs, batch_size=batch_size, shuffle=True)\n",
    "\n",
    "# Training loop\n",
    "for epoch in tqdm(range(epochs_num)):\n",
    "    total_loss = 0\n",
    "    for batch_pairs in tqdm(data_loader, desc=f\"Epoch {epoch} - Current batch progress\"):\n",
    "        # Transfer the batch data to the memory of the 'device' (i.e. gpu if used)\n",
    "        batch_pairs = batch_pairs.to(device)\n",
    "        # Define the center and context words\n",
    "        center_word, context_word = batch_pairs[:, 0], batch_pairs[:, 1]\n",
    "        \n",
    "        # Forward pass\n",
    "        optimizer.zero_grad()\n",
    "        output = model(center_word)\n",
    "        \n",
    "        # Calculate loss\n",
    "        loss = loss_function(output, context_word)\n",
    "        loss.backward()\n",
    "        optimizer.step()\n",
    "        \n",
    "        total_loss += loss.item()\n",
    "    \n",
    "    print(f\"Epoch {epoch+1}, Loss: {total_loss/len(pairs):.4f}\")  \n",
    "        \n",
    "# Transfer the model back to the cpu.\n",
    "model.to('cpu')"
   ]
  },
  {
   "cell_type": "markdown",
   "id": "88cf308d-7632-4555-abae-41925623a583",
   "metadata": {},
   "source": [
    "Generate Word Embeddings and Visualize"
   ]
  },
  {
   "cell_type": "code",
   "execution_count": null,
   "id": "755f35fa41e5e0a5",
   "metadata": {
    "ExecuteTime": {
     "end_time": "2025-01-14T10:07:41.306755100Z",
     "start_time": "2025-01-14T10:07:41.306755100Z"
    }
   },
   "outputs": [],
   "source": [
    "import matplotlib.pyplot as plt\n",
    "from sklearn.manifold import TSNE\n",
    "from sklearn.decomposition import PCA\n",
    "import seaborn as sns\n",
    "\n",
    "words_to_explore= [\n",
    "    'king', 'queen', 'woman', 'man', 'boy', 'daughter', \n",
    "    'dog', 'cat', 'horse', 'elephant', #'fish', 'bird', 'lizard', 'snake',\n",
    "    #'doctor', 'nurse', 'scientist', 'teacher', 'engineer', 'artist', 'musician', 'writer',\n",
    "    #'denmark', 'sweden', 'france', 'germany', 'spain', 'italy', 'portugal', 'turkey',\n",
    "]\n",
    "selected_ids = torch.tensor([word2Id[word] for word in words_to_explore])\n",
    "selected_word_embeddings = model.get_center_embs(selected_ids).detach()\n",
    "\n",
    "\n",
    "# Visualize the word embeddings using PCA for dimensionality reduction to 2D\n",
    "projected_embs = PCA(n_components=2).fit_transform(selected_word_embeddings)[:,:2]\n",
    "\n",
    "plt.figure(figsize=(6,4), frameon=False)\n",
    "plt.scatter(projected_embs[:,0], projected_embs[:,1], edgecolors='k', c='r')\n",
    "for word, (x,y) in zip(words_to_explore, projected_embs):\n",
    "    plt.text(x+0.05, y+0.05, word)\n",
    "plt.xlabel('Dim 1', fontsize=10)\n",
    "plt.ylabel('Dim 2', fontsize=10)\n",
    "plt.tight_layout()\n",
    "plt.box(False)\n",
    "plt.show()\n"
   ]
  },
  {
   "cell_type": "markdown",
   "id": "4b986afc-127d-4bc6-8d2e-90c26062c9f5",
   "metadata": {},
   "source": [
    "Evaluate Word Similarity"
   ]
  },
  {
   "cell_type": "code",
   "execution_count": null,
   "id": "ceb3908622e06954",
   "metadata": {
    "ExecuteTime": {
     "end_time": "2025-01-14T10:07:41.306755100Z",
     "start_time": "2025-01-14T10:07:41.306755100Z"
    }
   },
   "outputs": [],
   "source": [
    "names = [id2Word[i] for i in range(len(id2Word))]\n",
    "word_embs_df = pd.DataFrame(model.get_center_embs().detach(), index=names)\n",
    "\n",
    "word1, word2 = \"king\", \"queen\"\n",
    "# Test cosine similarity function\n",
    "print(f\"Cosine similarity between '{word1}' and '{word2}': {cosine_similarity_terms(word1, word2, word_embs_df)}\")\n",
    "word = \"king\"\n",
    "print(f\"Top 5 similar words to '{word}': {top_similar_words(word, word_embs_df, names, top_n=5)}\")\n",
    "\n"
   ]
  },
  {
   "cell_type": "code",
   "execution_count": null,
   "id": "fc7afdf4c81d7aee",
   "metadata": {
    "ExecuteTime": {
     "start_time": "2025-01-14T10:07:41.306755100Z"
    }
   },
   "outputs": [],
   "source": []
  }
 ],
 "metadata": {
  "kernelspec": {
   "display_name": "Python 3 (ipykernel)",
   "language": "python",
   "name": "python3"
  },
  "language_info": {
   "codemirror_mode": {
    "name": "ipython",
    "version": 3
   },
   "file_extension": ".py",
   "mimetype": "text/x-python",
   "name": "python",
   "nbconvert_exporter": "python",
   "pygments_lexer": "ipython3",
   "version": "3.9.20"
  }
 },
 "nbformat": 4,
 "nbformat_minor": 5
}
